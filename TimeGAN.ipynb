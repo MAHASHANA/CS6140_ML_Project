{
 "cells": [
  {
   "cell_type": "code",
   "execution_count": 17,
   "id": "057993ed-c18a-428d-ab97-2e76af3786b2",
   "metadata": {},
   "outputs": [
    {
     "name": "stdout",
     "output_type": "stream",
     "text": [
      "original data shape: (52116, 325)\n",
      "scaled_data shape: (52116, 325)\n",
      "[[0.8880597  0.93729373 0.90309556 ... 0.94896552 0.88432836 0.91520861]\n",
      " [0.89054726 0.93234323 0.90444145 ... 0.94344828 0.88059701 0.90713324]\n",
      " [0.89054726 0.9339934  0.89905787 ... 0.94344828 0.87686567 0.91386272]\n",
      " ...\n",
      " [0.8880597  0.92244224 0.87079408 ... 0.94344828 0.89054726 0.89636608]\n",
      " [0.89800995 0.91584158 0.86944818 ... 0.94758621 0.89054726 0.92059219]\n",
      " [0.88930348 0.91089109 0.87483176 ... 0.94758621 0.89054726 0.91520861]]\n"
     ]
    }
   ],
   "source": [
    "from os import path\n",
    "import pandas as pd\n",
    "import numpy as np\n",
    "import matplotlib.pyplot as plt\n",
    "from sklearn.preprocessing import MinMaxScaler\n",
    "\n",
    "from ydata_synthetic.synthesizers import ModelParameters, TrainParameters\n",
    "from ydata_synthetic.preprocessing.timeseries import processed_stock\n",
    "from ydata_synthetic.synthesizers.timeseries import TimeGAN\n",
    "\n",
    "\n",
    "data = pd.read_csv('C:/Users/raghu/CS6140/PEMS-BAY.csv')\n",
    "\n",
    "# Convert timestamp to datetime and set as index\n",
    "data['Timestamp'] = pd.to_datetime(data['Timestamp'])\n",
    "data.rename(columns={'Timestamp': 'timestamp'}, inplace=True)\n",
    "data.set_index('timestamp', inplace=True)\n",
    "\n",
    "data = data.interpolate(method='time')\n",
    "print(\"original data shape:\", data.shape)\n",
    "# Scale the data\n",
    "scaler = MinMaxScaler()\n",
    "scaled_data = scaler.fit_transform(data)\n",
    "\n",
    "print(\"scaled_data shape:\", scaled_data.shape)\n",
    "print(scaled_data)"
   ]
  },
  {
   "cell_type": "code",
   "execution_count": 18,
   "id": "6319ad38-7668-4a7c-ad03-3368ee727621",
   "metadata": {},
   "outputs": [
    {
     "name": "stdout",
     "output_type": "stream",
     "text": [
      "Reshaped data shape: (52016, 100, 325)\n"
     ]
    }
   ],
   "source": [
    "seq_len = 100  # Use appropriate sequence length\n",
    "n_seq = scaled_data.shape[1]  # Number of features\n",
    "\n",
    "# Reshape the data for TimeGAN (samples, timesteps, features)\n",
    "reshaped_data = []\n",
    "for i in range(len(scaled_data) - seq_len):\n",
    "    reshaped_data.append(scaled_data[i:i + seq_len])\n",
    "reshaped_data = np.array(reshaped_data)\n",
    "\n",
    "print(\"Reshaped data shape:\", reshaped_data.shape)"
   ]
  },
  {
   "cell_type": "code",
   "execution_count": 19,
   "id": "c259a6fa-59a8-46fd-b98b-4477e220e261",
   "metadata": {},
   "outputs": [
    {
     "name": "stdout",
     "output_type": "stream",
     "text": [
      "[[[0.8880597  0.93729373 0.90309556 ... 0.94896552 0.88432836 0.91520861]\n",
      "  [0.89054726 0.93234323 0.90444145 ... 0.94344828 0.88059701 0.90713324]\n",
      "  [0.89054726 0.9339934  0.89905787 ... 0.94344828 0.87686567 0.91386272]\n",
      "  ...\n",
      "  [0.89179104 0.93729373 0.90174966 ... 0.93931034 0.89303483 0.9179004 ]\n",
      "  [0.89303483 0.94389439 0.89502019 ... 0.93931034 0.89552239 0.92328398]\n",
      "  [0.89427861 0.93894389 0.89636608 ... 0.93793103 0.89179104 0.91655451]]\n",
      "\n",
      " [[0.89054726 0.93234323 0.90444145 ... 0.94344828 0.88059701 0.90713324]\n",
      "  [0.89054726 0.9339934  0.89905787 ... 0.94344828 0.87686567 0.91386272]\n",
      "  [0.88432836 0.93234323 0.90040377 ... 0.94344828 0.88059701 0.90982503]\n",
      "  ...\n",
      "  [0.89303483 0.94389439 0.89502019 ... 0.93931034 0.89552239 0.92328398]\n",
      "  [0.89427861 0.93894389 0.89636608 ... 0.93793103 0.89179104 0.91655451]\n",
      "  [0.8818408  0.93729373 0.88694482 ... 0.93793103 0.89054726 0.91251682]]\n",
      "\n",
      " [[0.89054726 0.9339934  0.89905787 ... 0.94344828 0.87686567 0.91386272]\n",
      "  [0.88432836 0.93234323 0.90040377 ... 0.94344828 0.88059701 0.90982503]\n",
      "  [0.89179104 0.93729373 0.89905787 ... 0.94344828 0.88308458 0.91386272]\n",
      "  ...\n",
      "  [0.89427861 0.93894389 0.89636608 ... 0.93793103 0.89179104 0.91655451]\n",
      "  [0.8818408  0.93729373 0.88694482 ... 0.93793103 0.89054726 0.91251682]\n",
      "  [0.8880597  0.94389439 0.88829071 ... 0.93655172 0.89676617 0.9179004 ]]\n",
      "\n",
      " ...\n",
      "\n",
      " [[0.88308458 0.20957096 0.7039031  ... 0.87172414 0.83333333 0.88963661]\n",
      "  [0.8818408  0.33168317 0.71736205 ... 0.86896552 0.83084577 0.89367429]\n",
      "  [0.89054726 0.4290429  0.73889637 ... 0.87310345 0.83457711 0.90444145]\n",
      "  ...\n",
      "  [0.88681592 0.91254125 0.87213997 ... 0.94068966 0.89054726 0.88425303]\n",
      "  [0.8818408  0.91254125 0.87483176 ... 0.94068966 0.89054726 0.8909825 ]\n",
      "  [0.88681592 0.91749175 0.87886945 ... 0.9462069  0.89054726 0.92059219]]\n",
      "\n",
      " [[0.8818408  0.33168317 0.71736205 ... 0.86896552 0.83084577 0.89367429]\n",
      "  [0.89054726 0.4290429  0.73889637 ... 0.87310345 0.83457711 0.90444145]\n",
      "  [0.8818408  0.51485149 0.71870794 ... 0.89103448 0.83830846 0.89502019]\n",
      "  ...\n",
      "  [0.8818408  0.91254125 0.87483176 ... 0.94068966 0.89054726 0.8909825 ]\n",
      "  [0.88681592 0.91749175 0.87886945 ... 0.9462069  0.89054726 0.92059219]\n",
      "  [0.8880597  0.92244224 0.87079408 ... 0.94344828 0.89054726 0.89636608]]\n",
      "\n",
      " [[0.89054726 0.4290429  0.73889637 ... 0.87310345 0.83457711 0.90444145]\n",
      "  [0.8818408  0.51485149 0.71870794 ... 0.89103448 0.83830846 0.89502019]\n",
      "  [0.87935323 0.51650165 0.73485868 ... 0.89103448 0.8358209  0.89367429]\n",
      "  ...\n",
      "  [0.88681592 0.91749175 0.87886945 ... 0.9462069  0.89054726 0.92059219]\n",
      "  [0.8880597  0.92244224 0.87079408 ... 0.94344828 0.89054726 0.89636608]\n",
      "  [0.89800995 0.91584158 0.86944818 ... 0.94758621 0.89054726 0.92059219]]]\n"
     ]
    }
   ],
   "source": [
    "print(reshaped_data)"
   ]
  },
  {
   "cell_type": "code",
   "execution_count": null,
   "id": "d37cdc51-ba20-46ca-90d0-8a89cac01dbf",
   "metadata": {},
   "outputs": [
    {
     "name": "stderr",
     "output_type": "stream",
     "text": [
      "Emddeding network training:   3%|▎         | 1/30 [01:32<44:28, 92.03s/it]"
     ]
    }
   ],
   "source": [
    "# Specific parameters for TimeGAN\n",
    "# hidden_dim = 24\n",
    "# gamma = 1\n",
    "# noise_dim = 32\n",
    "# dim = 128\n",
    "# batch_size = 128\n",
    "# log_step = 100\n",
    "# learning_rate = 5e-4\n",
    "# epochs = 10\n",
    "\n",
    "hidden_dim = 64\n",
    "gamma = 1\n",
    "noise_dim = 128\n",
    "dim = 256\n",
    "batch_size = 32\n",
    "log_step = 100\n",
    "learning_rate = 1e-4\n",
    "epochs = 30\n",
    "\n",
    "# Define model parameters using ModelParameters class from ydata_synthetic\n",
    "gan_args = ModelParameters(\n",
    "    batch_size=batch_size,\n",
    "    lr=learning_rate,\n",
    "    noise_dim=noise_dim,\n",
    "    layers_dim=dim\n",
    ")\n",
    "\n",
    "# Define the training parameters using TrainParameters from the library\n",
    "train_args = TrainParameters(\n",
    "    epochs=epochs\n",
    ")\n",
    "\n",
    "\n",
    "# Initialize the TimeGAN synthesizer\n",
    "synthesizer = TimeGAN(\n",
    "    model_parameters=gan_args,\n",
    "    hidden_dim=hidden_dim,\n",
    "    seq_len=seq_len,\n",
    "    n_seq=n_seq,\n",
    "    gamma=gamma\n",
    ")\n",
    "\n",
    "# Fit the synthesizer to the PeMS-Bay dataset\n",
    "synthesizer.train(reshaped_data, train_args.epochs)\n",
    "\n",
    "# Generate synthetic data\n",
    "synthetic_data = synthesizer.sample(100)  # Generate 100 samples\n",
    "\n",
    "# Reshape the synthetic data back to original shape if needed\n",
    "synthetic_data = synthetic_data.reshape(-1, n_seq)\n",
    "synthetic_data = scaler.inverse_transform(synthetic_data)\n",
    "\n",
    "print(synthetic_data.shape)"
   ]
  },
  {
   "cell_type": "code",
   "execution_count": null,
   "id": "e0c0d2a0-cd14-43c9-a3fd-6ccf127ea340",
   "metadata": {},
   "outputs": [],
   "source": [
    "print(type(synthetic_data))\n",
    "print(synthetic_data)"
   ]
  },
  {
   "cell_type": "code",
   "execution_count": null,
   "id": "522ef68c-ee06-4268-b382-f7068b1988c1",
   "metadata": {},
   "outputs": [],
   "source": [
    "# Save timestamps from the original data\n",
    "timestamps = data.index\n",
    "\n",
    "# Downsample the data to every 15 minutes\n",
    "data = data.resample('5T').mean()\n",
    "\n",
    "# Handle missing values\n",
    "data = data.interpolate(method='time')\n",
    "\n",
    "# Save sensor IDs\n",
    "sensor_ids = data.columns"
   ]
  },
  {
   "cell_type": "code",
   "execution_count": null,
   "id": "40a9bd28-32c3-4ba1-bc0f-ab3e33a35dce",
   "metadata": {},
   "outputs": [],
   "source": [
    "# Generate correct timestamps\n",
    "start_timestamp = timestamps[0]\n",
    "end_timestamp = start_timestamp + pd.Timedelta(minutes=5 * (synthetic_data.shape[0] - 1))\n",
    "full_timestamps = pd.date_range(start=start_timestamp, end=end_timestamp, freq='5T')\n",
    "\n",
    "# Ensure the length of full_timestamps matches the synthetic_data\n",
    "assert len(full_timestamps) == synthetic_data.shape[0], \"The length of generated timestamps must match the synthetic data\"\n",
    "\n",
    "# Add the 'timestamp' column\n",
    "synthetic_data_df = pd.DataFrame(synthetic_data, columns=sensor_ids)\n",
    "synthetic_data_df['timestamp'] = full_timestamps\n",
    "\n",
    "# Ensure 'timestamp' is the first column\n",
    "synthetic_data_df = synthetic_data_df[['timestamp'] + sensor_ids.tolist()]\n",
    "\n",
    "# Print the head of the DataFrame\n",
    "print(synthetic_data_df.head())\n",
    "\n",
    "# Write the DataFrame to a CSV file\n",
    "output_file_path = 'synthetic_data_timegan_02.csv'\n",
    "synthetic_data_df.to_csv(output_file_path, index=False)\n",
    "\n",
    "print(f\"Synthetic data has been written to {output_file_path}\")\n"
   ]
  }
 ],
 "metadata": {
  "kernelspec": {
   "display_name": "Python 3.10 (synth-env)",
   "language": "python",
   "name": "synth-env"
  },
  "language_info": {
   "codemirror_mode": {
    "name": "ipython",
    "version": 3
   },
   "file_extension": ".py",
   "mimetype": "text/x-python",
   "name": "python",
   "nbconvert_exporter": "python",
   "pygments_lexer": "ipython3",
   "version": "3.10.13"
  }
 },
 "nbformat": 4,
 "nbformat_minor": 5
}
